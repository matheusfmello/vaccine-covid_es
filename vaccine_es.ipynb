{
 "cells": [
  {
   "cell_type": "markdown",
   "metadata": {},
   "source": [
    "# Vaccines applications Espirito Santo - BR"
   ]
  },
  {
   "cell_type": "markdown",
   "metadata": {},
   "source": [
    "## Imports"
   ]
  },
  {
   "cell_type": "code",
   "execution_count": 1,
   "metadata": {},
   "outputs": [],
   "source": [
    "import pandas as pd\n",
    "import numpy as np\n",
    "\n",
    "import matplotlib.pyplot as plt\n",
    "import seaborn as sns\n",
    "\n",
    "from datetime import datetime\n",
    "from datetime import date\n",
    "from ipynb.fs.full.functions import took_shot\n",
    "from ipynb.fs.full.functions import convert_to_datetime\n",
    "\n",
    "from sklearn.model_selection import train_test_split\n",
    "from sklearn.pipeline import Pipeline\n",
    "from sklearn.preprocessing import OneHotEncoder\n",
    "\n",
    "from sklearn.ensemble import RandomForestClassifier\n",
    "from sklearn.ensemble import GradientBoostingClassifier"
   ]
  },
  {
   "cell_type": "markdown",
   "metadata": {},
   "source": [
    "## Reading data"
   ]
  },
  {
   "cell_type": "code",
   "execution_count": 2,
   "metadata": {},
   "outputs": [
    {
     "name": "stderr",
     "output_type": "stream",
     "text": [
      "c:\\Users\\Matheus\\anaconda3\\lib\\site-packages\\IPython\\core\\interactiveshell.py:3165: DtypeWarning: Columns (7,8) have mixed types.Specify dtype option on import or set low_memory=False.\n",
      "  has_raised = await self.run_ast_nodes(code_ast.body, cell_name,\n"
     ]
    }
   ],
   "source": [
    "dados_raw = pd.concat([pd.read_csv(\"vacina_es1.csv\", sep = \";\"), pd.read_csv(\"vacina_es2.csv\", sep = \";\")], ignore_index = True)"
   ]
  },
  {
   "cell_type": "code",
   "execution_count": 3,
   "metadata": {},
   "outputs": [],
   "source": [
    "ibge = pd.read_excel('atlas2013.xlsx', 'MUN 91-00-10')[['ANO', 'Codmun6', 'GINI', 'IDHM_E', 'IDHM_L', 'IDHM_R']]"
   ]
  },
  {
   "cell_type": "code",
   "execution_count": 4,
   "metadata": {},
   "outputs": [],
   "source": [
    "ibge = ibge[ibge['ANO'] == 2010].drop('ANO', axis=1)"
   ]
  },
  {
   "cell_type": "code",
   "execution_count": 5,
   "metadata": {},
   "outputs": [],
   "source": [
    "ibge.columns = ['paciente_endereco_coIbgeMunicipio', 'GINI', 'IDHM_E', 'IDHM_L', 'IDHM_R']"
   ]
  },
  {
   "cell_type": "code",
   "execution_count": 6,
   "metadata": {},
   "outputs": [],
   "source": [
    "dados_raw['paciente_endereco_coIbgeMunicipio'] = pd.to_numeric(dados_raw['paciente_endereco_coIbgeMunicipio'], errors='coerce')"
   ]
  },
  {
   "cell_type": "code",
   "execution_count": 7,
   "metadata": {},
   "outputs": [],
   "source": [
    "dados_raw = dados_raw[['paciente_id', 'paciente_idade','paciente_enumSexoBiologico','paciente_racaCor_valor',\n",
    "       'paciente_endereco_coIbgeMunicipio','vacina_grupoAtendimento_nome', 'vacina_fabricante_nome',\n",
    "       'vacina_dataAplicacao','vacina_descricao_dose']]"
   ]
  },
  {
   "cell_type": "code",
   "execution_count": 8,
   "metadata": {},
   "outputs": [],
   "source": [
    "dados_raw=pd.merge(dados_raw, ibge, on='paciente_endereco_coIbgeMunicipio', how='left')"
   ]
  },
  {
   "cell_type": "code",
   "execution_count": 9,
   "metadata": {},
   "outputs": [
    {
     "data": {
      "text/html": [
       "<div>\n",
       "<style scoped>\n",
       "    .dataframe tbody tr th:only-of-type {\n",
       "        vertical-align: middle;\n",
       "    }\n",
       "\n",
       "    .dataframe tbody tr th {\n",
       "        vertical-align: top;\n",
       "    }\n",
       "\n",
       "    .dataframe thead th {\n",
       "        text-align: right;\n",
       "    }\n",
       "</style>\n",
       "<table border=\"1\" class=\"dataframe\">\n",
       "  <thead>\n",
       "    <tr style=\"text-align: right;\">\n",
       "      <th></th>\n",
       "      <th>paciente_id</th>\n",
       "      <th>paciente_idade</th>\n",
       "      <th>paciente_enumSexoBiologico</th>\n",
       "      <th>paciente_racaCor_valor</th>\n",
       "      <th>paciente_endereco_coIbgeMunicipio</th>\n",
       "      <th>vacina_grupoAtendimento_nome</th>\n",
       "      <th>vacina_fabricante_nome</th>\n",
       "      <th>vacina_dataAplicacao</th>\n",
       "      <th>vacina_descricao_dose</th>\n",
       "      <th>GINI</th>\n",
       "      <th>IDHM_E</th>\n",
       "      <th>IDHM_L</th>\n",
       "      <th>IDHM_R</th>\n",
       "    </tr>\n",
       "  </thead>\n",
       "  <tbody>\n",
       "    <tr>\n",
       "      <th>0</th>\n",
       "      <td>0a786f8bf05d7784dcd7d1ae4517db63731b887c6c9c92...</td>\n",
       "      <td>63.0</td>\n",
       "      <td>M</td>\n",
       "      <td>SEM INFORMACAO</td>\n",
       "      <td>320390.0</td>\n",
       "      <td>Pessoas de 18 a 64 anos</td>\n",
       "      <td>JANSSEN</td>\n",
       "      <td>2022-05-09</td>\n",
       "      <td>Reforço</td>\n",
       "      <td>0.48</td>\n",
       "      <td>0.621</td>\n",
       "      <td>0.841</td>\n",
       "      <td>0.692</td>\n",
       "    </tr>\n",
       "    <tr>\n",
       "      <th>1</th>\n",
       "      <td>fdd45c0e79fc84ee7e82e7bfb0b5905eac31f5389e1bca...</td>\n",
       "      <td>56.0</td>\n",
       "      <td>M</td>\n",
       "      <td>PARDA</td>\n",
       "      <td>320500.0</td>\n",
       "      <td>Pessoas de 18 a 64 anos</td>\n",
       "      <td>SINOVAC/BUTANTAN</td>\n",
       "      <td>2021-11-20</td>\n",
       "      <td>1ª Dose</td>\n",
       "      <td>0.47</td>\n",
       "      <td>0.664</td>\n",
       "      <td>0.844</td>\n",
       "      <td>0.720</td>\n",
       "    </tr>\n",
       "    <tr>\n",
       "      <th>2</th>\n",
       "      <td>abffe68f6bc2086d122a9a106e2d2472abea16a15204e3...</td>\n",
       "      <td>69.0</td>\n",
       "      <td>F</td>\n",
       "      <td>BRANCA</td>\n",
       "      <td>320030.0</td>\n",
       "      <td>Pessoas de 65 a 69 anos</td>\n",
       "      <td>PFIZER</td>\n",
       "      <td>2021-11-22</td>\n",
       "      <td>Reforço</td>\n",
       "      <td>0.48</td>\n",
       "      <td>0.611</td>\n",
       "      <td>0.832</td>\n",
       "      <td>0.703</td>\n",
       "    </tr>\n",
       "    <tr>\n",
       "      <th>3</th>\n",
       "      <td>1570c731e4312b47514e935e178d2e3bb782c96c16c298...</td>\n",
       "      <td>48.0</td>\n",
       "      <td>M</td>\n",
       "      <td>SEM INFORMACAO</td>\n",
       "      <td>320130.0</td>\n",
       "      <td>Outros</td>\n",
       "      <td>SINOVAC/BUTANTAN</td>\n",
       "      <td>2021-03-30</td>\n",
       "      <td>1ª Dose</td>\n",
       "      <td>0.45</td>\n",
       "      <td>0.628</td>\n",
       "      <td>0.844</td>\n",
       "      <td>0.699</td>\n",
       "    </tr>\n",
       "    <tr>\n",
       "      <th>4</th>\n",
       "      <td>9b500e2f18625b82ac4b08e3f5efc7a5e99c7370fee915...</td>\n",
       "      <td>57.0</td>\n",
       "      <td>M</td>\n",
       "      <td>SEM INFORMACAO</td>\n",
       "      <td>314330.0</td>\n",
       "      <td>Pessoas de 18 a 64 anos</td>\n",
       "      <td>PFIZER</td>\n",
       "      <td>2022-01-06</td>\n",
       "      <td>Reforço</td>\n",
       "      <td>0.53</td>\n",
       "      <td>0.744</td>\n",
       "      <td>0.868</td>\n",
       "      <td>0.707</td>\n",
       "    </tr>\n",
       "  </tbody>\n",
       "</table>\n",
       "</div>"
      ],
      "text/plain": [
       "                                         paciente_id  paciente_idade  \\\n",
       "0  0a786f8bf05d7784dcd7d1ae4517db63731b887c6c9c92...            63.0   \n",
       "1  fdd45c0e79fc84ee7e82e7bfb0b5905eac31f5389e1bca...            56.0   \n",
       "2  abffe68f6bc2086d122a9a106e2d2472abea16a15204e3...            69.0   \n",
       "3  1570c731e4312b47514e935e178d2e3bb782c96c16c298...            48.0   \n",
       "4  9b500e2f18625b82ac4b08e3f5efc7a5e99c7370fee915...            57.0   \n",
       "\n",
       "  paciente_enumSexoBiologico paciente_racaCor_valor  \\\n",
       "0                          M         SEM INFORMACAO   \n",
       "1                          M                  PARDA   \n",
       "2                          F                 BRANCA   \n",
       "3                          M         SEM INFORMACAO   \n",
       "4                          M         SEM INFORMACAO   \n",
       "\n",
       "   paciente_endereco_coIbgeMunicipio vacina_grupoAtendimento_nome  \\\n",
       "0                           320390.0      Pessoas de 18 a 64 anos   \n",
       "1                           320500.0      Pessoas de 18 a 64 anos   \n",
       "2                           320030.0      Pessoas de 65 a 69 anos   \n",
       "3                           320130.0                       Outros   \n",
       "4                           314330.0      Pessoas de 18 a 64 anos   \n",
       "\n",
       "  vacina_fabricante_nome vacina_dataAplicacao vacina_descricao_dose  GINI  \\\n",
       "0                JANSSEN           2022-05-09               Reforço  0.48   \n",
       "1       SINOVAC/BUTANTAN           2021-11-20               1ª Dose  0.47   \n",
       "2                 PFIZER           2021-11-22               Reforço  0.48   \n",
       "3       SINOVAC/BUTANTAN           2021-03-30               1ª Dose  0.45   \n",
       "4                 PFIZER           2022-01-06               Reforço  0.53   \n",
       "\n",
       "   IDHM_E  IDHM_L  IDHM_R  \n",
       "0   0.621   0.841   0.692  \n",
       "1   0.664   0.844   0.720  \n",
       "2   0.611   0.832   0.703  \n",
       "3   0.628   0.844   0.699  \n",
       "4   0.744   0.868   0.707  "
      ]
     },
     "execution_count": 9,
     "metadata": {},
     "output_type": "execute_result"
    }
   ],
   "source": [
    "dados_raw.head()"
   ]
  },
  {
   "cell_type": "code",
   "execution_count": 10,
   "metadata": {},
   "outputs": [
    {
     "name": "stdout",
     "output_type": "stream",
     "text": [
      "<class 'pandas.core.frame.DataFrame'>\n",
      "Int64Index: 5666150 entries, 0 to 5666149\n",
      "Data columns (total 13 columns):\n",
      " #   Column                             Dtype  \n",
      "---  ------                             -----  \n",
      " 0   paciente_id                        object \n",
      " 1   paciente_idade                     float64\n",
      " 2   paciente_enumSexoBiologico         object \n",
      " 3   paciente_racaCor_valor             object \n",
      " 4   paciente_endereco_coIbgeMunicipio  float64\n",
      " 5   vacina_grupoAtendimento_nome       object \n",
      " 6   vacina_fabricante_nome             object \n",
      " 7   vacina_dataAplicacao               object \n",
      " 8   vacina_descricao_dose              object \n",
      " 9   GINI                               float64\n",
      " 10  IDHM_E                             float64\n",
      " 11  IDHM_L                             float64\n",
      " 12  IDHM_R                             float64\n",
      "dtypes: float64(6), object(7)\n",
      "memory usage: 605.2+ MB\n"
     ]
    }
   ],
   "source": [
    "dados_raw.info()"
   ]
  },
  {
   "cell_type": "markdown",
   "metadata": {},
   "source": [
    "## Filtering"
   ]
  },
  {
   "cell_type": "markdown",
   "metadata": {},
   "source": [
    "Excluding NAs"
   ]
  },
  {
   "cell_type": "code",
   "execution_count": 11,
   "metadata": {},
   "outputs": [
    {
     "data": {
      "text/plain": [
       "paciente_id                              2\n",
       "paciente_idade                           2\n",
       "paciente_enumSexoBiologico               2\n",
       "paciente_racaCor_valor                   2\n",
       "paciente_endereco_coIbgeMunicipio    19930\n",
       "vacina_grupoAtendimento_nome            16\n",
       "vacina_fabricante_nome                   0\n",
       "vacina_dataAplicacao                     0\n",
       "vacina_descricao_dose                    0\n",
       "GINI                                 20334\n",
       "IDHM_E                               20334\n",
       "IDHM_L                               20334\n",
       "IDHM_R                               20334\n",
       "dtype: int64"
      ]
     },
     "execution_count": 11,
     "metadata": {},
     "output_type": "execute_result"
    }
   ],
   "source": [
    "dados_raw.isnull().sum()"
   ]
  },
  {
   "cell_type": "code",
   "execution_count": 12,
   "metadata": {},
   "outputs": [],
   "source": [
    "dados_raw = dados_raw.dropna()"
   ]
  },
  {
   "cell_type": "markdown",
   "metadata": {},
   "source": [
    "Filtering age and other outliers"
   ]
  },
  {
   "cell_type": "code",
   "execution_count": 13,
   "metadata": {},
   "outputs": [],
   "source": [
    "dados_raw = dados_raw.loc[(dados_raw[\"paciente_idade\"] <= 90) & (dados_raw[\"paciente_idade\"] >= 18)]"
   ]
  },
  {
   "cell_type": "code",
   "execution_count": 14,
   "metadata": {},
   "outputs": [],
   "source": [
    "dados_raw = dados_raw[dados_raw['paciente_enumSexoBiologico'] != 'I']"
   ]
  },
  {
   "cell_type": "code",
   "execution_count": 15,
   "metadata": {},
   "outputs": [
    {
     "data": {
      "text/plain": [
       "<AxesSubplot:xlabel='paciente_idade'>"
      ]
     },
     "execution_count": 15,
     "metadata": {},
     "output_type": "execute_result"
    },
    {
     "data": {
      "image/png": "[encoded data removed]",
      "text/plain": [
       "<Figure size 432x288 with 1 Axes>"
      ]
     },
     "metadata": {
      "needs_background": "light"
     },
     "output_type": "display_data"
    }
   ],
   "source": [
    "dados_raw.groupby(\"paciente_idade\")[\"paciente_idade\"].count().plot()"
   ]
  },
  {
   "cell_type": "code",
   "execution_count": 16,
   "metadata": {},
   "outputs": [],
   "source": [
    "dados_raw = dados_raw[dados_raw[\"paciente_racaCor_valor\"] != 'SEM INFORMACAO']"
   ]
  },
  {
   "cell_type": "markdown",
   "metadata": {},
   "source": [
    "The info below looks wrong, once the person age doesn't fit the vaccination group registered"
   ]
  },
  {
   "cell_type": "code",
   "execution_count": 17,
   "metadata": {},
   "outputs": [],
   "source": [
    "dados_raw = dados_raw[dados_raw[\"vacina_grupoAtendimento_nome\"] != 'Pessoas de 12 a 17 anos']"
   ]
  },
  {
   "cell_type": "markdown",
   "metadata": {},
   "source": [
    "Vaccination groups are being groupped in more general groups. Commorbities, risk professions, regular people and others."
   ]
  },
  {
   "cell_type": "code",
   "execution_count": 18,
   "metadata": {},
   "outputs": [],
   "source": [
    "regular = ['Pessoas de 18 a 64 anos', 'Pessoas de 65 a 69 anos']\n",
    "comorbidades = ['Doenças Cardiovasculares e Cerebrovasculares','Pessoas de 75 a 79 anos',\n",
    "'Hipertensão de difícil controle ou com complicações/lesão de órgão alvo','Pessoas de 80 anos ou mais',\n",
    "'Diabetes Mellitus', 'Obesidade Grave (Imc≥40)', 'Pessoas de 70 a 74 anos','Outros Imunocomprometidos',\n",
    "'Gestante', 'Doença Renal Crônica', 'Síndrome de Down', 'Pneumopatias Crônicas Graves', 'Pessoas com Deficiência Permanente',\n",
    "'Doença cardiovascular', 'Hemoglobinopatia grave', 'Doença neurológica crônica', 'Pessoas com Deficiência Institucionalizadas',\n",
    "'Neoplasias', 'Indivíduos Transplantados de Órgão Sólido', 'Cirrose hepática', 'Indivíduos Transplantados de Medula Óssea']\n",
    "profissao = ['Ensino Básico', 'Quilombola', 'Trabalhadores Portuários', 'Recepcionista', 'Farmacêutico',\n",
    "'Médico', 'Ensino Superior','Auxiliar de Enfermagem', 'Assistente Social', 'Bombeiro Militar', 'Técnico de Enfermagem',\n",
    "'Acadêmicos/estudantes em estágio em estabelecimentos de saúde', 'Profissionais e Auxiliares de limpeza','Motorista de Ambulância',\n",
    "'Odontologista', 'Coletivo Rodoviário Passageiros Urbano e de Longo Curso', 'Puérpera', 'Funcionário do Sistema de Privação de Liberdade',\n",
    "'Cozinheiro e Auxiliares', 'Pessoas de 60 nos ou mais Institucionalizadas', 'Fisioterapeutas', 'Policial Militar',\n",
    "'Funcionário do Sistema Funerário que tenham contato com cadáveres potencialmente contaminados', 'Guarda Municipal',\n",
    "'Pessoas em Situação de Rua', 'Policial Civil', 'Nutricionista', 'Cuidador de Idosos', 'Povos indígenas em terras indígenas',\n",
    "'Técnico de Odontologia', 'Enfermeiro(a)', 'Fonoaudiólogo', 'Psicólogo', 'Profissionais de Educação Física',\n",
    "'Médico Veterinário', 'Segurança', 'Biólogo', 'Policial Federal', 'Biomédico', 'Aéreo', 'Policial Rodoviário Federal',\n",
    "'Auxiliar de Veterinário', 'Bombeiro Civil', 'Terapeuta Ocupacional', 'Auxiliar em Saúde Bucal - ASB', 'Marinha do Brasil - MB',\n",
    "'Caminhoneiro', 'População Privada de Liberdade', 'Ferroviário', 'Exército Brasileiro - EB', 'Técnico de Veterinário',\n",
    "'Técnico em Saúde Bucal - TSB', 'Agente Comunitário de Saúde - ACS', 'Trabalhadores Industriais', 'Agente de Combate a Endemias - ACE',\n",
    "'Doula/Parteira', 'Trabalhadores de limpeza urbana e manejo de resíduos sólidos', 'Aquaviário', 'Força Aérea Brasileira - FAB',\n",
    "'Metroviário', 'Ribeirinha']\n",
    "outros = ['Outros', \"Outros Grupos\", 'Pessoas de 5 a 11 anos', 'Sem registro no modelo de informação de origem']"
   ]
  },
  {
   "cell_type": "code",
   "execution_count": 19,
   "metadata": {},
   "outputs": [],
   "source": [
    "dados_raw[\"vacina_grupoAtendimento_nome\"] = dados_raw[\"vacina_grupoAtendimento_nome\"].replace(regular, \"Regular\")\n",
    "dados_raw[\"vacina_grupoAtendimento_nome\"] = dados_raw[\"vacina_grupoAtendimento_nome\"].replace(comorbidades, \"Comorbidades\")\n",
    "dados_raw[\"vacina_grupoAtendimento_nome\"] = dados_raw[\"vacina_grupoAtendimento_nome\"].replace(profissao, \"Profissao/Situacao de Risco\")\n",
    "dados_raw[\"vacina_grupoAtendimento_nome\"] = dados_raw[\"vacina_grupoAtendimento_nome\"].replace(outros, \"Outros\")"
   ]
  },
  {
   "cell_type": "markdown",
   "metadata": {},
   "source": [
    "Vaccines applied are also being groupped in more general groups. The important here is to separate those vaccines whose intervals between doses differ from each other."
   ]
  },
  {
   "cell_type": "code",
   "execution_count": 20,
   "metadata": {},
   "outputs": [],
   "source": [
    "dados_raw[\"vacina_fabricante_nome\"] = dados_raw[\"vacina_fabricante_nome\"].replace('ASTRAZENECA/FIOCRUZ', 'ASTRAZENECA')\n",
    "dados_raw[\"vacina_fabricante_nome\"] = dados_raw[\"vacina_fabricante_nome\"].replace('SINOVAC/BUTANTAN', 'CORONAVAC')\n",
    "dados_raw = dados_raw[dados_raw[\"vacina_fabricante_nome\"].isin([\"PFIZER\", \"CORONAVAC\", \"ASTRAZENECA\", \"JANSSEN\"])]"
   ]
  },
  {
   "cell_type": "code",
   "execution_count": 21,
   "metadata": {},
   "outputs": [
    {
     "data": {
      "text/plain": [
       "array(['1ª Dose', 'Reforço', '2ª Dose', 'Dose', '4ª Dose',\n",
       "       'Dose Adicional', 'Única', '3ª Dose'], dtype=object)"
      ]
     },
     "execution_count": 21,
     "metadata": {},
     "output_type": "execute_result"
    }
   ],
   "source": [
    "dados_raw[\"vacina_descricao_dose\"].unique()"
   ]
  },
  {
   "cell_type": "code",
   "execution_count": 22,
   "metadata": {},
   "outputs": [],
   "source": [
    "dados_raw = dados_raw[dados_raw[\"vacina_descricao_dose\"].isin(['1ª Dose', '2ª Dose'])]"
   ]
  },
  {
   "cell_type": "markdown",
   "metadata": {},
   "source": [
    "We've already tidied most of the features we're using in our final dataset. Now we need to separate 1st and 2nd doses in different columns so we can compare the applications dates."
   ]
  },
  {
   "cell_type": "code",
   "execution_count": 23,
   "metadata": {},
   "outputs": [],
   "source": [
    "dados_1dose = dados_raw[dados_raw[\"vacina_descricao_dose\"] == '1ª Dose'].reset_index(drop=True)\n",
    "dados_1dose['dose1'] = dados_1dose['vacina_dataAplicacao']\n",
    "dados_1dose = dados_1dose.drop(['vacina_dataAplicacao', 'vacina_descricao_dose'], axis = 1)\n",
    "\n",
    "dados_2dose = dados_raw[dados_raw[\"vacina_descricao_dose\"] == '2ª Dose'][['paciente_id', 'vacina_dataAplicacao']].reset_index(drop=True)\n",
    "dados_2dose.columns = ['paciente_id', 'dose2']\n"
   ]
  },
  {
   "cell_type": "code",
   "execution_count": 24,
   "metadata": {},
   "outputs": [],
   "source": [
    "dados_merge = pd.merge(dados_1dose, dados_2dose, how='left', on='paciente_id')"
   ]
  },
  {
   "cell_type": "code",
   "execution_count": 25,
   "metadata": {},
   "outputs": [],
   "source": [
    "dados_merge['dose1'] = dados_merge['dose1'].apply(lambda x: convert_to_datetime(x))\n",
    "dados_merge['dose2'] = dados_merge['dose2'].apply(lambda x: convert_to_datetime(x))"
   ]
  },
  {
   "cell_type": "code",
   "execution_count": 26,
   "metadata": {},
   "outputs": [],
   "source": [
    "dados_merge['took_2nd'] = took_shot(dados_merge['dose1'], dados_merge['dose2'], dados_merge['vacina_fabricante_nome'])"
   ]
  },
  {
   "cell_type": "code",
   "execution_count": 27,
   "metadata": {},
   "outputs": [],
   "source": [
    "dados = dados_merge[dados_merge['took_2nd'] != 2].drop(['paciente_id', 'paciente_endereco_coIbgeMunicipio', 'dose1', 'dose2'], axis=1)"
   ]
  },
  {
   "cell_type": "code",
   "execution_count": 28,
   "metadata": {},
   "outputs": [],
   "source": [
    "dados_dummy = pd.get_dummies(dados[['paciente_enumSexoBiologico', 'paciente_racaCor_valor', 'vacina_grupoAtendimento_nome',\n",
    "'vacina_fabricante_nome']], drop_first = True)"
   ]
  },
  {
   "cell_type": "code",
   "execution_count": 29,
   "metadata": {},
   "outputs": [],
   "source": [
    "x = pd.merge(dados[['paciente_idade', 'GINI', 'IDHM_E', 'IDHM_L', 'IDHM_R']], dados_dummy, left_index=True, right_index=True)\n",
    "y = dados['took_2nd']"
   ]
  },
  {
   "cell_type": "code",
   "execution_count": 30,
   "metadata": {},
   "outputs": [
    {
     "data": {
      "text/html": [
       "<div>\n",
       "<style scoped>\n",
       "    .dataframe tbody tr th:only-of-type {\n",
       "        vertical-align: middle;\n",
       "    }\n",
       "\n",
       "    .dataframe tbody tr th {\n",
       "        vertical-align: top;\n",
       "    }\n",
       "\n",
       "    .dataframe thead th {\n",
       "        text-align: right;\n",
       "    }\n",
       "</style>\n",
       "<table border=\"1\" class=\"dataframe\">\n",
       "  <thead>\n",
       "    <tr style=\"text-align: right;\">\n",
       "      <th></th>\n",
       "      <th>paciente_idade</th>\n",
       "      <th>GINI</th>\n",
       "      <th>IDHM_E</th>\n",
       "      <th>IDHM_L</th>\n",
       "      <th>IDHM_R</th>\n",
       "      <th>paciente_enumSexoBiologico_M</th>\n",
       "      <th>paciente_racaCor_valor_BRANCA</th>\n",
       "      <th>paciente_racaCor_valor_INDIGENA</th>\n",
       "      <th>paciente_racaCor_valor_PARDA</th>\n",
       "      <th>paciente_racaCor_valor_PRETA</th>\n",
       "      <th>vacina_grupoAtendimento_nome_Outros</th>\n",
       "      <th>vacina_grupoAtendimento_nome_Profissao/Situacao de Risco</th>\n",
       "      <th>vacina_grupoAtendimento_nome_Regular</th>\n",
       "      <th>vacina_fabricante_nome_CORONAVAC</th>\n",
       "      <th>vacina_fabricante_nome_JANSSEN</th>\n",
       "      <th>vacina_fabricante_nome_PFIZER</th>\n",
       "    </tr>\n",
       "  </thead>\n",
       "  <tbody>\n",
       "    <tr>\n",
       "      <th>0</th>\n",
       "      <td>56.0</td>\n",
       "      <td>0.47</td>\n",
       "      <td>0.664</td>\n",
       "      <td>0.844</td>\n",
       "      <td>0.720</td>\n",
       "      <td>1</td>\n",
       "      <td>0</td>\n",
       "      <td>0</td>\n",
       "      <td>1</td>\n",
       "      <td>0</td>\n",
       "      <td>0</td>\n",
       "      <td>0</td>\n",
       "      <td>1</td>\n",
       "      <td>1</td>\n",
       "      <td>0</td>\n",
       "      <td>0</td>\n",
       "    </tr>\n",
       "    <tr>\n",
       "      <th>1</th>\n",
       "      <td>40.0</td>\n",
       "      <td>0.42</td>\n",
       "      <td>0.589</td>\n",
       "      <td>0.816</td>\n",
       "      <td>0.672</td>\n",
       "      <td>0</td>\n",
       "      <td>1</td>\n",
       "      <td>0</td>\n",
       "      <td>0</td>\n",
       "      <td>0</td>\n",
       "      <td>0</td>\n",
       "      <td>0</td>\n",
       "      <td>1</td>\n",
       "      <td>0</td>\n",
       "      <td>0</td>\n",
       "      <td>1</td>\n",
       "    </tr>\n",
       "    <tr>\n",
       "      <th>2</th>\n",
       "      <td>40.0</td>\n",
       "      <td>0.42</td>\n",
       "      <td>0.589</td>\n",
       "      <td>0.816</td>\n",
       "      <td>0.672</td>\n",
       "      <td>0</td>\n",
       "      <td>1</td>\n",
       "      <td>0</td>\n",
       "      <td>0</td>\n",
       "      <td>0</td>\n",
       "      <td>0</td>\n",
       "      <td>0</td>\n",
       "      <td>1</td>\n",
       "      <td>0</td>\n",
       "      <td>0</td>\n",
       "      <td>1</td>\n",
       "    </tr>\n",
       "    <tr>\n",
       "      <th>3</th>\n",
       "      <td>36.0</td>\n",
       "      <td>0.48</td>\n",
       "      <td>0.540</td>\n",
       "      <td>0.828</td>\n",
       "      <td>0.630</td>\n",
       "      <td>1</td>\n",
       "      <td>1</td>\n",
       "      <td>0</td>\n",
       "      <td>0</td>\n",
       "      <td>0</td>\n",
       "      <td>0</td>\n",
       "      <td>0</td>\n",
       "      <td>1</td>\n",
       "      <td>1</td>\n",
       "      <td>0</td>\n",
       "      <td>0</td>\n",
       "    </tr>\n",
       "    <tr>\n",
       "      <th>4</th>\n",
       "      <td>36.0</td>\n",
       "      <td>0.48</td>\n",
       "      <td>0.540</td>\n",
       "      <td>0.828</td>\n",
       "      <td>0.630</td>\n",
       "      <td>1</td>\n",
       "      <td>1</td>\n",
       "      <td>0</td>\n",
       "      <td>0</td>\n",
       "      <td>0</td>\n",
       "      <td>0</td>\n",
       "      <td>0</td>\n",
       "      <td>1</td>\n",
       "      <td>1</td>\n",
       "      <td>0</td>\n",
       "      <td>0</td>\n",
       "    </tr>\n",
       "  </tbody>\n",
       "</table>\n",
       "</div>"
      ],
      "text/plain": [
       "   paciente_idade  GINI  IDHM_E  IDHM_L  IDHM_R  paciente_enumSexoBiologico_M  \\\n",
       "0            56.0  0.47   0.664   0.844   0.720                             1   \n",
       "1            40.0  0.42   0.589   0.816   0.672                             0   \n",
       "2            40.0  0.42   0.589   0.816   0.672                             0   \n",
       "3            36.0  0.48   0.540   0.828   0.630                             1   \n",
       "4            36.0  0.48   0.540   0.828   0.630                             1   \n",
       "\n",
       "   paciente_racaCor_valor_BRANCA  paciente_racaCor_valor_INDIGENA  \\\n",
       "0                              0                                0   \n",
       "1                              1                                0   \n",
       "2                              1                                0   \n",
       "3                              1                                0   \n",
       "4                              1                                0   \n",
       "\n",
       "   paciente_racaCor_valor_PARDA  paciente_racaCor_valor_PRETA  \\\n",
       "0                             1                             0   \n",
       "1                             0                             0   \n",
       "2                             0                             0   \n",
       "3                             0                             0   \n",
       "4                             0                             0   \n",
       "\n",
       "   vacina_grupoAtendimento_nome_Outros  \\\n",
       "0                                    0   \n",
       "1                                    0   \n",
       "2                                    0   \n",
       "3                                    0   \n",
       "4                                    0   \n",
       "\n",
       "   vacina_grupoAtendimento_nome_Profissao/Situacao de Risco  \\\n",
       "0                                                  0          \n",
       "1                                                  0          \n",
       "2                                                  0          \n",
       "3                                                  0          \n",
       "4                                                  0          \n",
       "\n",
       "   vacina_grupoAtendimento_nome_Regular  vacina_fabricante_nome_CORONAVAC  \\\n",
       "0                                     1                                 1   \n",
       "1                                     1                                 0   \n",
       "2                                     1                                 0   \n",
       "3                                     1                                 1   \n",
       "4                                     1                                 1   \n",
       "\n",
       "   vacina_fabricante_nome_JANSSEN  vacina_fabricante_nome_PFIZER  \n",
       "0                               0                              0  \n",
       "1                               0                              1  \n",
       "2                               0                              1  \n",
       "3                               0                              0  \n",
       "4                               0                              0  "
      ]
     },
     "execution_count": 30,
     "metadata": {},
     "output_type": "execute_result"
    }
   ],
   "source": [
    "x.head()"
   ]
  },
  {
   "cell_type": "code",
   "execution_count": 31,
   "metadata": {},
   "outputs": [],
   "source": [
    "X_train, X_test, y_train, y_test = train_test_split(x, y, test_size=0.2, random_state=0, stratify=y)"
   ]
  },
  {
   "cell_type": "code",
   "execution_count": 32,
   "metadata": {},
   "outputs": [
    {
     "data": {
      "text/plain": [
       "RandomForestClassifier(n_estimators=300, n_jobs=-1)"
      ]
     },
     "execution_count": 32,
     "metadata": {},
     "output_type": "execute_result"
    }
   ],
   "source": [
    "clf = RandomForestClassifier(n_estimators=300, n_jobs=-1)\n",
    "clf.fit(X_train, y_train)"
   ]
  },
  {
   "cell_type": "code",
   "execution_count": 33,
   "metadata": {},
   "outputs": [
    {
     "data": {
      "text/plain": [
       "0.638782057769771"
      ]
     },
     "execution_count": 33,
     "metadata": {},
     "output_type": "execute_result"
    }
   ],
   "source": [
    "clf.score(X_test, y_test) "
   ]
  },
  {
   "cell_type": "code",
   "execution_count": 34,
   "metadata": {},
   "outputs": [],
   "source": [
    "from sklearn.metrics import confusion_matrix\n",
    "y_pred = clf.predict(X_test)\n",
    "cf_matrix = confusion_matrix(y_test, y_pred)\n"
   ]
  },
  {
   "cell_type": "code",
   "execution_count": 35,
   "metadata": {},
   "outputs": [
    {
     "data": {
      "image/png": "[encoded data removed]",
      "text/plain": [
       "<Figure size 432x288 with 2 Axes>"
      ]
     },
     "metadata": {
      "needs_background": "light"
     },
     "output_type": "display_data"
    }
   ],
   "source": [
    "ax = sns.heatmap(cf_matrix, annot=True, cmap='Blues')\n",
    "\n",
    "ax.set_title('Confusion Matrix with labels\\n\\n');\n",
    "ax.set_xlabel('\\nPredicted Values')\n",
    "ax.set_ylabel('Actual Values ');\n",
    "\n",
    "ax.xaxis.set_ticklabels(['Did not take','Took 2nd'])\n",
    "ax.yaxis.set_ticklabels(['Did not take','Took 2nd'])\n",
    "\n",
    "plt.show()"
   ]
  }
 ],
 "metadata": {
  "kernelspec": {
   "display_name": "Python 3.8.8 ('base')",
   "language": "python",
   "name": "python3"
  },
  "language_info": {
   "codemirror_mode": {
    "name": "ipython",
    "version": 3
   },
   "file_extension": ".py",
   "mimetype": "text/x-python",
   "name": "python",
   "nbconvert_exporter": "python",
   "pygments_lexer": "ipython3",
   "version": "3.8.8"
  },
  "orig_nbformat": 4,
  "vscode": {
   "interpreter": {
    "hash": "c8d3184e42d5090dff9a42825f73ee2454fef8c1131708a89f889453d9fc9d30"
   }
  }
 },
 "nbformat": 4,
 "nbformat_minor": 2
}
