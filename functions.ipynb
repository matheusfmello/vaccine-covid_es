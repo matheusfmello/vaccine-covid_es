{
 "cells": [
  {
   "cell_type": "code",
   "execution_count": 1,
   "metadata": {},
   "outputs": [],
   "source": [
    "import pandas as pd\n",
    "from datetime import datetime\n",
    "from datetime import date"
   ]
  },
  {
   "cell_type": "code",
   "execution_count": 2,
   "metadata": {},
   "outputs": [],
   "source": [
    "def convert_to_datetime(x):\n",
    "    try:\n",
    "        return(datetime.strptime(str(x),'%Y-%m-%d'))\n",
    "    except:\n",
    "        return(datetime.strptime('3000-01-01','%Y-%m-%d'))"
   ]
  },
  {
   "cell_type": "code",
   "execution_count": 1,
   "metadata": {},
   "outputs": [],
   "source": [
    "# checks if 2nd shot was taken in time, and also if deadline was reached.\n",
    "# returns a column with values {0:'2nd shot late', 1:'2nd shot taken', 2:'2nd shot deadline not reached yet'}\n",
    "def took_shot(shot1, shot2, vaccine, deadlines={'CORONAVAC':60, 'ASTRAZENECA':120, 'PFIZER':120, 'JANSSEN':120}):\n",
    "    today = datetime.strptime(date.today().strftime('%Y-%m-%d'), \"%Y-%m-%d\")\n",
    "    erro = datetime.strptime('3000-01-01','%Y-%m-%d')\n",
    "    result = []\n",
    "    for i in range(0, len(shot1)):\n",
    "        # when not above deadline\n",
    "        if (today - shot1[i]).days < deadlines[vaccine[i]]:\n",
    "            if(shot2[i] == erro):\n",
    "                result.append(2)\n",
    "            else:\n",
    "                result.append(1)\n",
    "        else:\n",
    "            if(shot2[i] == erro):\n",
    "                result.append(0)\n",
    "            else:\n",
    "                result.append(1)\n",
    "\n",
    "    return result\n",
    "\n",
    "\n",
    "\n",
    "\n",
    "    \n"
   ]
  }
 ],
 "metadata": {
  "kernelspec": {
   "display_name": "Python 3.7.4 32-bit",
   "language": "python",
   "name": "python3"
  },
  "language_info": {
   "codemirror_mode": {
    "name": "ipython",
    "version": 3
   },
   "file_extension": ".py",
   "mimetype": "text/x-python",
   "name": "python",
   "nbconvert_exporter": "python",
   "pygments_lexer": "ipython3",
   "version": "3.7.4"
  },
  "orig_nbformat": 4,
  "vscode": {
   "interpreter": {
    "hash": "383120deb274188d50c46724d025634c368de63aead550f1ad05ca95201d97a3"
   }
  }
 },
 "nbformat": 4,
 "nbformat_minor": 2
}
