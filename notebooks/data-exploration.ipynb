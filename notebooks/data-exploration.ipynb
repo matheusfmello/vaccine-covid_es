{
 "cells": [
  {
   "cell_type": "code",
   "execution_count": 1,
   "metadata": {},
   "outputs": [],
   "source": [
    "import pandas as pd\n",
    "import numpy as np\n",
    "\n",
    "import matplotlib.pyplot as plt\n",
    "import seaborn as sns"
   ]
  },
  {
   "cell_type": "code",
   "execution_count": 3,
   "metadata": {},
   "outputs": [],
   "source": [
    "dados = pd.read_csv(\"dados_raw.csv\")"
   ]
  },
  {
   "cell_type": "code",
   "execution_count": 38,
   "metadata": {},
   "outputs": [
    {
     "data": {
      "text/html": [
       "<div>\n",
       "<style scoped>\n",
       "    .dataframe tbody tr th:only-of-type {\n",
       "        vertical-align: middle;\n",
       "    }\n",
       "\n",
       "    .dataframe tbody tr th {\n",
       "        vertical-align: top;\n",
       "    }\n",
       "\n",
       "    .dataframe thead th {\n",
       "        text-align: right;\n",
       "    }\n",
       "</style>\n",
       "<table border=\"1\" class=\"dataframe\">\n",
       "  <thead>\n",
       "    <tr style=\"text-align: right;\">\n",
       "      <th></th>\n",
       "      <th>paciente_id</th>\n",
       "      <th>paciente_idade</th>\n",
       "      <th>paciente_enumSexoBiologico</th>\n",
       "      <th>paciente_racaCor_valor</th>\n",
       "      <th>paciente_endereco_coIbgeMunicipio</th>\n",
       "      <th>vacina_grupoAtendimento_nome</th>\n",
       "      <th>vacina_fabricante_nome</th>\n",
       "      <th>vacina_dataAplicacao</th>\n",
       "      <th>vacina_descricao_dose</th>\n",
       "      <th>GINI</th>\n",
       "      <th>IDHM_E</th>\n",
       "      <th>IDHM_L</th>\n",
       "      <th>IDHM_R</th>\n",
       "    </tr>\n",
       "  </thead>\n",
       "  <tbody>\n",
       "    <tr>\n",
       "      <th>0</th>\n",
       "      <td>fdd45c0e79fc84ee7e82e7bfb0b5905eac31f5389e1bca...</td>\n",
       "      <td>56.0</td>\n",
       "      <td>M</td>\n",
       "      <td>PARDA</td>\n",
       "      <td>320500.0</td>\n",
       "      <td>Regular</td>\n",
       "      <td>CORONAVAC</td>\n",
       "      <td>2021-11-20</td>\n",
       "      <td>1ª Dose</td>\n",
       "      <td>0.47</td>\n",
       "      <td>0.664</td>\n",
       "      <td>0.844</td>\n",
       "      <td>0.720</td>\n",
       "    </tr>\n",
       "    <tr>\n",
       "      <th>1</th>\n",
       "      <td>9801e2fd2ec3d6f83fcb43db4547d61276b08da2d3dfee...</td>\n",
       "      <td>40.0</td>\n",
       "      <td>F</td>\n",
       "      <td>BRANCA</td>\n",
       "      <td>320510.0</td>\n",
       "      <td>Regular</td>\n",
       "      <td>PFIZER</td>\n",
       "      <td>2021-06-24</td>\n",
       "      <td>1ª Dose</td>\n",
       "      <td>0.42</td>\n",
       "      <td>0.589</td>\n",
       "      <td>0.816</td>\n",
       "      <td>0.672</td>\n",
       "    </tr>\n",
       "    <tr>\n",
       "      <th>2</th>\n",
       "      <td>182133e487066d9a11411bff85899672bdb6166268799e...</td>\n",
       "      <td>36.0</td>\n",
       "      <td>M</td>\n",
       "      <td>BRANCA</td>\n",
       "      <td>320115.0</td>\n",
       "      <td>Regular</td>\n",
       "      <td>CORONAVAC</td>\n",
       "      <td>2021-11-10</td>\n",
       "      <td>1ª Dose</td>\n",
       "      <td>0.48</td>\n",
       "      <td>0.540</td>\n",
       "      <td>0.828</td>\n",
       "      <td>0.630</td>\n",
       "    </tr>\n",
       "    <tr>\n",
       "      <th>3</th>\n",
       "      <td>8b4e09e6de22aece6a9abf9f4ae8c24782ec44cd871539...</td>\n",
       "      <td>64.0</td>\n",
       "      <td>F</td>\n",
       "      <td>PARDA</td>\n",
       "      <td>320120.0</td>\n",
       "      <td>Regular</td>\n",
       "      <td>ASTRAZENECA</td>\n",
       "      <td>2021-04-19</td>\n",
       "      <td>1ª Dose</td>\n",
       "      <td>0.52</td>\n",
       "      <td>0.677</td>\n",
       "      <td>0.837</td>\n",
       "      <td>0.733</td>\n",
       "    </tr>\n",
       "    <tr>\n",
       "      <th>4</th>\n",
       "      <td>17df6e4340b1083ff4b240f72d3b12adc1dddee90b3f2d...</td>\n",
       "      <td>55.0</td>\n",
       "      <td>M</td>\n",
       "      <td>BRANCA</td>\n",
       "      <td>320460.0</td>\n",
       "      <td>Regular</td>\n",
       "      <td>ASTRAZENECA</td>\n",
       "      <td>2021-06-16</td>\n",
       "      <td>1ª Dose</td>\n",
       "      <td>0.48</td>\n",
       "      <td>0.604</td>\n",
       "      <td>0.834</td>\n",
       "      <td>0.722</td>\n",
       "    </tr>\n",
       "  </tbody>\n",
       "</table>\n",
       "</div>"
      ],
      "text/plain": [
       "                                         paciente_id  paciente_idade  \\\n",
       "0  fdd45c0e79fc84ee7e82e7bfb0b5905eac31f5389e1bca...            56.0   \n",
       "1  9801e2fd2ec3d6f83fcb43db4547d61276b08da2d3dfee...            40.0   \n",
       "2  182133e487066d9a11411bff85899672bdb6166268799e...            36.0   \n",
       "3  8b4e09e6de22aece6a9abf9f4ae8c24782ec44cd871539...            64.0   \n",
       "4  17df6e4340b1083ff4b240f72d3b12adc1dddee90b3f2d...            55.0   \n",
       "\n",
       "  paciente_enumSexoBiologico paciente_racaCor_valor  \\\n",
       "0                          M                  PARDA   \n",
       "1                          F                 BRANCA   \n",
       "2                          M                 BRANCA   \n",
       "3                          F                  PARDA   \n",
       "4                          M                 BRANCA   \n",
       "\n",
       "   paciente_endereco_coIbgeMunicipio vacina_grupoAtendimento_nome  \\\n",
       "0                           320500.0                      Regular   \n",
       "1                           320510.0                      Regular   \n",
       "2                           320115.0                      Regular   \n",
       "3                           320120.0                      Regular   \n",
       "4                           320460.0                      Regular   \n",
       "\n",
       "  vacina_fabricante_nome vacina_dataAplicacao vacina_descricao_dose  GINI  \\\n",
       "0              CORONAVAC           2021-11-20               1ª Dose  0.47   \n",
       "1                 PFIZER           2021-06-24               1ª Dose  0.42   \n",
       "2              CORONAVAC           2021-11-10               1ª Dose  0.48   \n",
       "3            ASTRAZENECA           2021-04-19               1ª Dose  0.52   \n",
       "4            ASTRAZENECA           2021-06-16               1ª Dose  0.48   \n",
       "\n",
       "   IDHM_E  IDHM_L  IDHM_R  \n",
       "0   0.664   0.844   0.720  \n",
       "1   0.589   0.816   0.672  \n",
       "2   0.540   0.828   0.630  \n",
       "3   0.677   0.837   0.733  \n",
       "4   0.604   0.834   0.722  "
      ]
     },
     "execution_count": 38,
     "metadata": {},
     "output_type": "execute_result"
    }
   ],
   "source": [
    "dados.head()"
   ]
  },
  {
   "cell_type": "code",
   "execution_count": 37,
   "metadata": {},
   "outputs": [
    {
     "data": {
      "text/plain": [
       "Text(0, 0.5, 'Count')"
      ]
     },
     "execution_count": 37,
     "metadata": {},
     "output_type": "execute_result"
    },
    {
     "data": {
      "image/png": "[encoded data removed]",
      "text/plain": [
       "<Figure size 432x288 with 1 Axes>"
      ]
     },
     "metadata": {
      "needs_background": "light"
     },
     "output_type": "display_data"
    }
   ],
   "source": [
    "dados.groupby([\"paciente_idade\", \"vacina_descricao_dose\"])[[\"paciente_idade\"]].count().unstack().plot()\n",
    "plt.legend(['1ª Dose', '2ª Dose'])\n",
    "plt.xlabel(\"Age\")\n",
    "plt.ylabel(\"Count\")"
   ]
  },
  {
   "cell_type": "code",
   "execution_count": 51,
   "metadata": {},
   "outputs": [
    {
     "data": {
      "text/plain": [
       "[Text(0.5, 0, 'Race'), Text(0, 0.5, '')]"
      ]
     },
     "execution_count": 51,
     "metadata": {},
     "output_type": "execute_result"
    },
    {
     "data": {
      "image/png": "[encoded data removed]",
      "text/plain": [
       "<Figure size 432x288 with 1 Axes>"
      ]
     },
     "metadata": {
      "needs_background": "light"
     },
     "output_type": "display_data"
    }
   ],
   "source": [
    "ax = sns.countplot(x=\"paciente_racaCor_valor\", hue=\"vacina_descricao_dose\", data=dados)\n",
    "ax.set(xlabel=\"Race\", ylabel=\"\")"
   ]
  },
  {
   "cell_type": "code",
   "execution_count": 84,
   "metadata": {},
   "outputs": [],
   "source": [
    "race=dados.groupby([\"paciente_racaCor_valor\", \"vacina_descricao_dose\"])[[\"paciente_racaCor_valor\"]].count().reset_index(level=[1])"
   ]
  },
  {
   "cell_type": "code",
   "execution_count": 103,
   "metadata": {},
   "outputs": [
    {
     "data": {
      "text/html": [
       "<div>\n",
       "<style scoped>\n",
       "    .dataframe tbody tr th:only-of-type {\n",
       "        vertical-align: middle;\n",
       "    }\n",
       "\n",
       "    .dataframe tbody tr th {\n",
       "        vertical-align: top;\n",
       "    }\n",
       "\n",
       "    .dataframe thead th {\n",
       "        text-align: right;\n",
       "    }\n",
       "</style>\n",
       "<table border=\"1\" class=\"dataframe\">\n",
       "  <thead>\n",
       "    <tr style=\"text-align: right;\">\n",
       "      <th></th>\n",
       "      <th>vacina_descricao_dose</th>\n",
       "      <th>paciente_racaCor_valor</th>\n",
       "    </tr>\n",
       "    <tr>\n",
       "      <th>paciente_racaCor_valor</th>\n",
       "      <th></th>\n",
       "      <th></th>\n",
       "    </tr>\n",
       "  </thead>\n",
       "  <tbody>\n",
       "    <tr>\n",
       "      <th>AMARELA</th>\n",
       "      <td>1ª Dose</td>\n",
       "      <td>342390</td>\n",
       "    </tr>\n",
       "    <tr>\n",
       "      <th>BRANCA</th>\n",
       "      <td>1ª Dose</td>\n",
       "      <td>589388</td>\n",
       "    </tr>\n",
       "    <tr>\n",
       "      <th>INDIGENA</th>\n",
       "      <td>1ª Dose</td>\n",
       "      <td>2228</td>\n",
       "    </tr>\n",
       "    <tr>\n",
       "      <th>PARDA</th>\n",
       "      <td>1ª Dose</td>\n",
       "      <td>478856</td>\n",
       "    </tr>\n",
       "    <tr>\n",
       "      <th>PRETA</th>\n",
       "      <td>1ª Dose</td>\n",
       "      <td>107546</td>\n",
       "    </tr>\n",
       "  </tbody>\n",
       "</table>\n",
       "</div>"
      ],
      "text/plain": [
       "                       vacina_descricao_dose  paciente_racaCor_valor\n",
       "paciente_racaCor_valor                                              \n",
       "AMARELA                              1ª Dose                  342390\n",
       "BRANCA                               1ª Dose                  589388\n",
       "INDIGENA                             1ª Dose                    2228\n",
       "PARDA                                1ª Dose                  478856\n",
       "PRETA                                1ª Dose                  107546"
      ]
     },
     "execution_count": 103,
     "metadata": {},
     "output_type": "execute_result"
    }
   ],
   "source": [
    "race[race['vacina_descricao_dose']==\"1ª Dose\"]"
   ]
  },
  {
   "cell_type": "code",
   "execution_count": 105,
   "metadata": {},
   "outputs": [
    {
     "data": {
      "text/plain": [
       "<AxesSubplot:xlabel='paciente_racaCor_valor'>"
      ]
     },
     "execution_count": 105,
     "metadata": {},
     "output_type": "execute_result"
    },
    {
     "data": {
      "image/png": "[encoded data removed]",
      "text/plain": [
       "<Figure size 432x288 with 1 Axes>"
      ]
     },
     "metadata": {
      "needs_background": "light"
     },
     "output_type": "display_data"
    }
   ],
   "source": []
  }
 ],
 "metadata": {
  "kernelspec": {
   "display_name": "Python 3.7.4 32-bit",
   "language": "python",
   "name": "python3"
  },
  "language_info": {
   "codemirror_mode": {
    "name": "ipython",
    "version": 3
   },
   "file_extension": ".py",
   "mimetype": "text/x-python",
   "name": "python",
   "nbconvert_exporter": "python",
   "pygments_lexer": "ipython3",
   "version": "3.7.4"
  },
  "orig_nbformat": 4,
  "vscode": {
   "interpreter": {
    "hash": "383120deb274188d50c46724d025634c368de63aead550f1ad05ca95201d97a3"
   }
  }
 },
 "nbformat": 4,
 "nbformat_minor": 2
}
